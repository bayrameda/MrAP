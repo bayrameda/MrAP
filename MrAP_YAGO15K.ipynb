{
  "nbformat": 4,
  "nbformat_minor": 0,
  "metadata": {
    "colab": {
      "name": "MrAP_YAGO15K.ipynb",
      "provenance": [],
      "collapsed_sections": [],
      "toc_visible": true,
      "authorship_tag": "ABX9TyNlaBptDUe9v3NmF19y9YfU",
      "include_colab_link": true
    },
    "kernelspec": {
      "name": "python3",
      "display_name": "Python 3"
    },
    "accelerator": "GPU"
  },
  "cells": [
    {
      "cell_type": "markdown",
      "metadata": {
        "id": "view-in-github",
        "colab_type": "text"
      },
      "source": [
        "<a href=\"https://colab.research.google.com/github/bayrameda/MrAP/blob/main/MrAP_YAGO15K.ipynb\" target=\"_parent\"><img src=\"https://colab.research.google.com/assets/colab-badge.svg\" alt=\"Open In Colab\"/></a>"
      ]
    },
    {
      "cell_type": "code",
      "metadata": {
        "id": "zRYQsr7wiEnF",
        "outputId": "d4ab07a6-4906-468d-c588-1f3dd5a76edb",
        "colab": {
          "base_uri": "https://localhost:8080/",
          "height": 176
        }
      },
      "source": [
        "!pip install torch-scatter==2.0.4"
      ],
      "execution_count": null,
      "outputs": [
        {
          "output_type": "stream",
          "text": [
            "Collecting torch-scatter==2.0.4\n",
            "  Downloading https://files.pythonhosted.org/packages/98/a9/47cd92673b6ba251240d587815c763baac2099b07bb76fecdb3b7ae5cece/torch_scatter-2.0.4.tar.gz\n",
            "Building wheels for collected packages: torch-scatter\n",
            "  Building wheel for torch-scatter (setup.py) ... \u001b[?25l\u001b[?25hdone\n",
            "  Created wheel for torch-scatter: filename=torch_scatter-2.0.4-cp36-cp36m-linux_x86_64.whl size=11357778 sha256=d00eebb50752dc77154029c3efc2917e366a04ef1bd63aaf9d0b52230c6c7968\n",
            "  Stored in directory: /root/.cache/pip/wheels/fb/28/28/458ddcee4849d5f8a14dd1be1e957d2e8b2955e8c96b07a12d\n",
            "Successfully built torch-scatter\n",
            "Installing collected packages: torch-scatter\n",
            "Successfully installed torch-scatter-2.0.4\n"
          ],
          "name": "stdout"
        }
      ]
    },
    {
      "cell_type": "code",
      "metadata": {
        "id": "J9XrMezXiQuz"
      },
      "source": [
        "import numpy as np\n",
        "import torch\n",
        "import pandas as pd\n",
        "import matplotlib.pyplot as plt\n",
        "%matplotlib inline"
      ],
      "execution_count": null,
      "outputs": []
    },
    {
      "cell_type": "code",
      "metadata": {
        "id": "rmzDODF9iTG3",
        "outputId": "b1250c9d-145a-4963-a566-34b729ea7c3b",
        "colab": {
          "base_uri": "https://localhost:8080/",
          "height": 34
        }
      },
      "source": [
        "device = torch.device('cuda' if torch.cuda.is_available() else 'cpu')\n",
        "print(device)"
      ],
      "execution_count": null,
      "outputs": [
        {
          "output_type": "stream",
          "text": [
            "cuda\n"
          ],
          "name": "stdout"
        }
      ]
    },
    {
      "cell_type": "markdown",
      "metadata": {
        "id": "xZPHygcxiYhQ"
      },
      "source": [
        "# Data Read"
      ]
    },
    {
      "cell_type": "code",
      "metadata": {
        "id": "vQMW2HnyiaHZ"
      },
      "source": [
        "ent_100 = pd.read_csv('data/train_100')\n",
        "ent_80 = pd.read_csv('data/train_80')\n",
        "ent_50 = pd.read_csv('data/train_50')\n",
        "ent_20 = pd.read_csv('data/train_20')\n",
        "ent_dev = pd.read_csv('data/dev')\n",
        "ent_test = pd.read_csv('data/test')\n",
        "\n",
        "entities = pd.concat([ent_100, ent_dev, ent_test], ignore_index=True)\n",
        "entities.set_axis(['node', 'attribute', 'numeric'], axis=1, inplace=True)\n",
        "\n",
        "triples = pd.read_csv('data/triples')"
      ],
      "execution_count": null,
      "outputs": []
    },
    {
      "cell_type": "markdown",
      "metadata": {
        "id": "Ps9rzjYRG76R"
      },
      "source": [
        "### Extract the multi-relational edge list"
      ]
    },
    {
      "cell_type": "code",
      "metadata": {
        "id": "kmS0g885HL9j"
      },
      "source": [
        "from utils import extract_edges_YAGO, estimate_params, drop_sym, reduce_to_singles, performance"
      ],
      "execution_count": null,
      "outputs": []
    },
    {
      "cell_type": "code",
      "metadata": {
        "id": "1l56dad8xHVd"
      },
      "source": [
        "dates = ['wasBornOnDate','wasCreatedOnDate','wasDestroyedOnDate', 'diedOnDate','happenedOnDate']\n",
        "corr_attributes = [dates,['hasLatitude'],['hasLongitude']]"
      ],
      "execution_count": null,
      "outputs": []
    },
    {
      "cell_type": "code",
      "metadata": {
        "id": "pHP8NynWze-R"
      },
      "source": [
        "edge_list = []\n",
        "relations = []\n",
        "for atts in corr_attributes:\n",
        "  entities_ofint = entities[entities.attribute.isin(atts)]\n",
        "  edge_ofint, rel_ofint = extract_edges_YAGO(triples, entities_ofint)\n",
        "  edge_list = edge_list + edge_ofint\n",
        "  relations = relations + rel_ofint"
      ],
      "execution_count": null,
      "outputs": []
    },
    {
      "cell_type": "markdown",
      "metadata": {
        "id": "uOb3eYytqlCg"
      },
      "source": [
        "## Stats"
      ]
    },
    {
      "cell_type": "code",
      "metadata": {
        "id": "0HOmPZG8q4Am",
        "outputId": "3470f123-52cc-4ce3-92d4-01e110283a02",
        "colab": {
          "base_uri": "https://localhost:8080/",
          "height": 257
        }
      },
      "source": [
        "entity_stat = pd.DataFrame(columns=['count','min', 'mean', 'max'])\n",
        "attributes = entities['attribute'].unique().tolist()\n",
        "for key in attributes:\n",
        "  numerics = entities[entities['attribute']==key]['numeric']\n",
        "  entity_stat.loc[key] = [len(numerics), numerics.min(),numerics.mean(),numerics.max()]\n",
        "entity_stat"
      ],
      "execution_count": null,
      "outputs": [
        {
          "output_type": "execute_result",
          "data": {
            "text/html": [
              "<div>\n",
              "<style scoped>\n",
              "    .dataframe tbody tr th:only-of-type {\n",
              "        vertical-align: middle;\n",
              "    }\n",
              "\n",
              "    .dataframe tbody tr th {\n",
              "        vertical-align: top;\n",
              "    }\n",
              "\n",
              "    .dataframe thead th {\n",
              "        text-align: right;\n",
              "    }\n",
              "</style>\n",
              "<table border=\"1\" class=\"dataframe\">\n",
              "  <thead>\n",
              "    <tr style=\"text-align: right;\">\n",
              "      <th></th>\n",
              "      <th>count</th>\n",
              "      <th>min</th>\n",
              "      <th>mean</th>\n",
              "      <th>max</th>\n",
              "    </tr>\n",
              "  </thead>\n",
              "  <tbody>\n",
              "    <tr>\n",
              "      <th>wasBornOnDate</th>\n",
              "      <td>8217.0</td>\n",
              "      <td>354.868493</td>\n",
              "      <td>1952.741523</td>\n",
              "      <td>2014.073000</td>\n",
              "    </tr>\n",
              "    <tr>\n",
              "      <th>wasCreatedOnDate</th>\n",
              "      <td>6574.0</td>\n",
              "      <td>100.000000</td>\n",
              "      <td>1905.681281</td>\n",
              "      <td>2018.704110</td>\n",
              "    </tr>\n",
              "    <tr>\n",
              "      <th>wasDestroyedOnDate</th>\n",
              "      <td>536.0</td>\n",
              "      <td>476.000000</td>\n",
              "      <td>1966.864286</td>\n",
              "      <td>2017.241096</td>\n",
              "    </tr>\n",
              "    <tr>\n",
              "      <th>diedOnDate</th>\n",
              "      <td>1821.0</td>\n",
              "      <td>348.000000</td>\n",
              "      <td>1961.966725</td>\n",
              "      <td>2161.101000</td>\n",
              "    </tr>\n",
              "    <tr>\n",
              "      <th>hasLongitude</th>\n",
              "      <td>2989.0</td>\n",
              "      <td>-175.000000</td>\n",
              "      <td>-39.150271</td>\n",
              "      <td>179.000000</td>\n",
              "    </tr>\n",
              "    <tr>\n",
              "      <th>hasLatitude</th>\n",
              "      <td>2989.0</td>\n",
              "      <td>-51.683333</td>\n",
              "      <td>37.502377</td>\n",
              "      <td>73.000000</td>\n",
              "    </tr>\n",
              "    <tr>\n",
              "      <th>happenedOnDate</th>\n",
              "      <td>388.0</td>\n",
              "      <td>218.000000</td>\n",
              "      <td>1944.227129</td>\n",
              "      <td>2018.169863</td>\n",
              "    </tr>\n",
              "  </tbody>\n",
              "</table>\n",
              "</div>"
            ],
            "text/plain": [
              "                     count         min         mean          max\n",
              "wasBornOnDate       8217.0  354.868493  1952.741523  2014.073000\n",
              "wasCreatedOnDate    6574.0  100.000000  1905.681281  2018.704110\n",
              "wasDestroyedOnDate   536.0  476.000000  1966.864286  2017.241096\n",
              "diedOnDate          1821.0  348.000000  1961.966725  2161.101000\n",
              "hasLongitude        2989.0 -175.000000   -39.150271   179.000000\n",
              "hasLatitude         2989.0  -51.683333    37.502377    73.000000\n",
              "happenedOnDate       388.0  218.000000  1944.227129  2018.169863"
            ]
          },
          "metadata": {
            "tags": []
          },
          "execution_count": 8
        }
      ]
    },
    {
      "cell_type": "markdown",
      "metadata": {
        "id": "mzzqJIHBciFT"
      },
      "source": [
        "### Multi-relational graph stats"
      ]
    },
    {
      "cell_type": "code",
      "metadata": {
        "id": "Y-BwjfVUKdBU",
        "outputId": "79f619cb-1c23-4522-c2cd-5ed37a9747cd",
        "colab": {
          "base_uri": "https://localhost:8080/",
          "height": 141
        }
      },
      "source": [
        "print('Number of attribute types = ', entities['attribute'].nunique())\n",
        "N = len(entities)\n",
        "print('Total number of numerical facts = ', N)\n",
        "print('Total number of entities = ',entities.node.nunique())\n",
        "print('Total number of triple facts = ', len(triples))\n",
        "print('Number of relation types = ',triples.relation.nunique())\n",
        "print('Number of regression models = ', len(relations))\n",
        "asym_edge_list = drop_sym(edge_list)\n",
        "print('Number of message passing paths =', len(np.concatenate(asym_edge_list)))"
      ],
      "execution_count": null,
      "outputs": [
        {
          "output_type": "stream",
          "text": [
            "Number of attribute types =  7\n",
            "Total number of numerical facts =  23514\n",
            "Total number of entities =  15077\n",
            "Total number of triple facts =  119590\n",
            "Number of relation types =  32\n",
            "Number of regression models =  261\n",
            "Number of message passing paths = 168915\n"
          ],
          "name": "stdout"
        }
      ]
    },
    {
      "cell_type": "code",
      "metadata": {
        "id": "48dfM6WssbaC"
      },
      "source": [
        "attribute_labels = entities.attribute.values # corresponding entity labels of the nodes\n",
        "x = entities.numeric.values.copy() # ordering of entities is compatible with the node ordering in triples"
      ],
      "execution_count": null,
      "outputs": []
    },
    {
      "cell_type": "markdown",
      "metadata": {
        "id": "sv5E4oMTtGsY"
      },
      "source": [
        "# Performances"
      ]
    },
    {
      "cell_type": "code",
      "metadata": {
        "id": "S52NLzhnjO6H"
      },
      "source": [
        "def indices(entities_interest): #get the indicies of the entities of interest wrt x ordering\n",
        "  return [entities[(entities.node == row[0]) & (entities.attribute == row[1])].index.item() for ind, row in entities_interest.iterrows()]\n",
        "\n",
        "splits = ['100', '80', '50', '20']\n",
        "idx_train = [indices(item) for item in [ent_100, ent_80, ent_50, ent_20]] #train = known, dev+test=unknown\n",
        "\n",
        "def comp_u(idx):\n",
        "  u = np.zeros(N, dtype=bool)\n",
        "  u[idx] = 1\n",
        "  return u\n",
        "\n",
        "u_0_list = [comp_u(idx) for idx in idx_train]\n",
        "\n",
        "idx_test = indices(ent_test)\n",
        "idx_test_atts = [[item for item in idx_test if item in np.where(attribute_labels == att)[0]] for att in attributes]"
      ],
      "execution_count": null,
      "outputs": []
    },
    {
      "cell_type": "markdown",
      "metadata": {
        "id": "PD5JbMC0-vDZ"
      },
      "source": [
        "Ratio known dates"
      ]
    },
    {
      "cell_type": "code",
      "metadata": {
        "id": "QdBn9jDC-PB-",
        "outputId": "05cf889b-5879-44e6-eba7-4e27f167ef9e",
        "colab": {
          "base_uri": "https://localhost:8080/",
          "height": 34
        }
      },
      "source": [
        "print('Train=known, ratios=', [len(item)/N for item in idx_train])"
      ],
      "execution_count": null,
      "outputs": [
        {
          "output_type": "stream",
          "text": [
            "Train=known, ratios= [0.8023730543505997, 0.64085225822914, 0.4016755975163732, 0.15709789912392616]\n"
          ],
          "name": "stdout"
        }
      ]
    },
    {
      "cell_type": "code",
      "metadata": {
        "id": "hLp5nhaS3FeB"
      },
      "source": [
        "def get_performance(x_pred, u_0):\n",
        "  tups = [performance(x_pred, x[idx], u_0, idx) for idx in idx_test_atts] # performance on each attribute type\n",
        "  return [item for tupl in tups for item in tupl] #merging all"
      ],
      "execution_count": null,
      "outputs": []
    },
    {
      "cell_type": "markdown",
      "metadata": {
        "id": "Xzpm7MmJRl9g"
      },
      "source": [
        "## Algorithms"
      ]
    },
    {
      "cell_type": "code",
      "metadata": {
        "id": "w4xw983K5ccO"
      },
      "source": [
        "from Models.MrAP import MrAP\n",
        "from Models.algs import Global, Local, iter_MrAP"
      ],
      "execution_count": null,
      "outputs": []
    },
    {
      "cell_type": "markdown",
      "metadata": {
        "id": "EnKMRvr7Tyrj"
      },
      "source": [
        "A variation : Reduction of the edges to the ones among single type of attribute \\\\\n",
        "i.e., reduce the regression of one attribute from the same type of another"
      ]
    },
    {
      "cell_type": "code",
      "metadata": {
        "id": "-nzP9gCg5lAl"
      },
      "source": [
        "edge_list_singles, relations_singles, attribute_coupled = reduce_to_singles(edge_list, attribute_labels)\n",
        "asym_edge_list_singles = drop_sym(edge_list_singles)"
      ],
      "execution_count": null,
      "outputs": []
    },
    {
      "cell_type": "code",
      "metadata": {
        "id": "MnJdJ2zH37Eh"
      },
      "source": [
        "taus, omegas, _, _ = estimate_params(edge_list, x)\n",
        "tau_singles = taus[relations_singles]\n",
        "omega_singles = omegas[relations_singles]"
      ],
      "execution_count": null,
      "outputs": []
    },
    {
      "cell_type": "code",
      "metadata": {
        "id": "5_FF1jE5Ry2n"
      },
      "source": [
        "model = MrAP(device=device, edge_list=asym_edge_list, omega=omegas, tau=taus)\n",
        "model_singles = MrAP(device=device, edge_list=asym_edge_list_singles, omega=omega_singles, tau=tau_singles)"
      ],
      "execution_count": null,
      "outputs": []
    },
    {
      "cell_type": "code",
      "metadata": {
        "id": "vVEVSgoR1oHm"
      },
      "source": [
        "table_result = pd.DataFrame(columns=['born-RMSE', 'born-MAE', 'Created-RMSE', 'Created-MAE', 'Destroyed-RMSE', 'Destroyed-MAE','died-RMSE', 'died-MAE',\n",
        "                                     'Long-RMSE', 'Long-MAE', 'Lat-RMSE', 'Lat-MAE', 'happened-RMSE', 'happened-MAE' ])\n",
        "\n",
        "kk=0\n",
        "for u_00 in u_0_list:\n",
        "  u_0 = torch.tensor(u_00, device=device)\n",
        "  x_0 = torch.tensor(x, device=device)\n",
        "  x_0[u_0 == 0] = 0 # Zero-padding of unknown\n",
        "\n",
        "  x_pred = Global(x_0, u_0, attribute_labels)\n",
        "  table_result.loc['Global-' + splits[kk]] = get_performance(x_pred, u_0)\n",
        "\n",
        "  x_pred = Local(asym_edge_list, x_0, u_0, attribute_labels)\n",
        "  table_result.loc['Local-' + splits[kk]] = get_performance(x_pred, u_0)\n",
        "\n",
        "  x_pred = iter_MrAP(x_0, u_0, model_singles, xi=0.5, entity_labels=attribute_labels)\n",
        "  table_result.loc['MrAP_single-' + splits[kk]]  = get_performance(x_pred, u_0)\n",
        "\n",
        "  x_pred = iter_MrAP(x_0, u_0, model, xi=0.5, entity_labels=attribute_labels)\n",
        "  table_result.loc['MrAP_cross-' + splits[kk]]  = get_performance(x_pred, u_0)\n",
        "\n",
        "  kk = kk+1"
      ],
      "execution_count": null,
      "outputs": []
    },
    {
      "cell_type": "code",
      "metadata": {
        "id": "YR89_-XGe13e",
        "outputId": "da3bc65c-8f2b-419f-95d9-d1fdf9ba8aab",
        "colab": {
          "base_uri": "https://localhost:8080/",
          "height": 527
        }
      },
      "source": [
        "table_result"
      ],
      "execution_count": null,
      "outputs": [
        {
          "output_type": "execute_result",
          "data": {
            "text/html": [
              "<div>\n",
              "<style scoped>\n",
              "    .dataframe tbody tr th:only-of-type {\n",
              "        vertical-align: middle;\n",
              "    }\n",
              "\n",
              "    .dataframe tbody tr th {\n",
              "        vertical-align: top;\n",
              "    }\n",
              "\n",
              "    .dataframe thead th {\n",
              "        text-align: right;\n",
              "    }\n",
              "</style>\n",
              "<table border=\"1\" class=\"dataframe\">\n",
              "  <thead>\n",
              "    <tr style=\"text-align: right;\">\n",
              "      <th></th>\n",
              "      <th>born-RMSE</th>\n",
              "      <th>born-MAE</th>\n",
              "      <th>Created-RMSE</th>\n",
              "      <th>Created-MAE</th>\n",
              "      <th>Destroyed-RMSE</th>\n",
              "      <th>Destroyed-MAE</th>\n",
              "      <th>died-RMSE</th>\n",
              "      <th>died-MAE</th>\n",
              "      <th>Long-RMSE</th>\n",
              "      <th>Long-MAE</th>\n",
              "      <th>Lat-RMSE</th>\n",
              "      <th>Lat-MAE</th>\n",
              "      <th>happened-RMSE</th>\n",
              "      <th>happened-MAE</th>\n",
              "    </tr>\n",
              "  </thead>\n",
              "  <tbody>\n",
              "    <tr>\n",
              "      <th>Global-100</th>\n",
              "      <td>66.102315</td>\n",
              "      <td>26.733693</td>\n",
              "      <td>155.824502</td>\n",
              "      <td>95.468521</td>\n",
              "      <td>60.122977</td>\n",
              "      <td>44.200750</td>\n",
              "      <td>89.466182</td>\n",
              "      <td>48.638036</td>\n",
              "      <td>63.194689</td>\n",
              "      <td>56.205869</td>\n",
              "      <td>21.499234</td>\n",
              "      <td>12.704618</td>\n",
              "      <td>67.328678</td>\n",
              "      <td>52.147568</td>\n",
              "    </tr>\n",
              "    <tr>\n",
              "      <th>Local-100</th>\n",
              "      <td>65.777537</td>\n",
              "      <td>26.266371</td>\n",
              "      <td>197.184609</td>\n",
              "      <td>134.134455</td>\n",
              "      <td>59.452359</td>\n",
              "      <td>42.197465</td>\n",
              "      <td>92.377310</td>\n",
              "      <td>51.038063</td>\n",
              "      <td>24.082464</td>\n",
              "      <td>10.598457</td>\n",
              "      <td>9.036132</td>\n",
              "      <td>3.384860</td>\n",
              "      <td>67.328678</td>\n",
              "      <td>52.147568</td>\n",
              "    </tr>\n",
              "    <tr>\n",
              "      <th>MrAP_single-100</th>\n",
              "      <td>65.654885</td>\n",
              "      <td>26.821183</td>\n",
              "      <td>168.019916</td>\n",
              "      <td>97.704930</td>\n",
              "      <td>59.317286</td>\n",
              "      <td>41.988331</td>\n",
              "      <td>90.543732</td>\n",
              "      <td>49.332990</td>\n",
              "      <td>17.143665</td>\n",
              "      <td>5.708155</td>\n",
              "      <td>7.930374</td>\n",
              "      <td>2.764027</td>\n",
              "      <td>67.328678</td>\n",
              "      <td>52.147568</td>\n",
              "    </tr>\n",
              "    <tr>\n",
              "      <th>MrAP_cross-100</th>\n",
              "      <td>31.479919</td>\n",
              "      <td>19.743910</td>\n",
              "      <td>149.636901</td>\n",
              "      <td>70.444597</td>\n",
              "      <td>62.005726</td>\n",
              "      <td>34.614763</td>\n",
              "      <td>84.242613</td>\n",
              "      <td>33.961682</td>\n",
              "      <td>17.142654</td>\n",
              "      <td>5.704237</td>\n",
              "      <td>7.929983</td>\n",
              "      <td>2.765666</td>\n",
              "      <td>73.816374</td>\n",
              "      <td>54.138783</td>\n",
              "    </tr>\n",
              "    <tr>\n",
              "      <th>Global-80</th>\n",
              "      <td>66.101929</td>\n",
              "      <td>26.779621</td>\n",
              "      <td>155.800064</td>\n",
              "      <td>95.744809</td>\n",
              "      <td>59.561234</td>\n",
              "      <td>42.725947</td>\n",
              "      <td>89.354839</td>\n",
              "      <td>47.933495</td>\n",
              "      <td>63.204549</td>\n",
              "      <td>56.311347</td>\n",
              "      <td>21.461463</td>\n",
              "      <td>12.754035</td>\n",
              "      <td>67.799639</td>\n",
              "      <td>52.935114</td>\n",
              "    </tr>\n",
              "    <tr>\n",
              "      <th>Local-80</th>\n",
              "      <td>67.645259</td>\n",
              "      <td>26.809942</td>\n",
              "      <td>186.068193</td>\n",
              "      <td>111.928215</td>\n",
              "      <td>58.982126</td>\n",
              "      <td>40.870250</td>\n",
              "      <td>92.767028</td>\n",
              "      <td>51.139902</td>\n",
              "      <td>30.798048</td>\n",
              "      <td>15.401603</td>\n",
              "      <td>10.815932</td>\n",
              "      <td>4.373420</td>\n",
              "      <td>67.799639</td>\n",
              "      <td>52.935114</td>\n",
              "    </tr>\n",
              "    <tr>\n",
              "      <th>MrAP_single-80</th>\n",
              "      <td>65.846838</td>\n",
              "      <td>27.540882</td>\n",
              "      <td>161.135904</td>\n",
              "      <td>88.433481</td>\n",
              "      <td>58.945193</td>\n",
              "      <td>41.063974</td>\n",
              "      <td>90.601435</td>\n",
              "      <td>49.643583</td>\n",
              "      <td>17.384423</td>\n",
              "      <td>6.349659</td>\n",
              "      <td>8.098886</td>\n",
              "      <td>3.083835</td>\n",
              "      <td>67.799639</td>\n",
              "      <td>52.935114</td>\n",
              "    </tr>\n",
              "    <tr>\n",
              "      <th>MrAP_cross-80</th>\n",
              "      <td>62.362344</td>\n",
              "      <td>21.669413</td>\n",
              "      <td>149.215673</td>\n",
              "      <td>70.534499</td>\n",
              "      <td>54.406482</td>\n",
              "      <td>33.240274</td>\n",
              "      <td>94.271882</td>\n",
              "      <td>37.266638</td>\n",
              "      <td>17.493987</td>\n",
              "      <td>6.396199</td>\n",
              "      <td>8.090711</td>\n",
              "      <td>3.088407</td>\n",
              "      <td>71.500651</td>\n",
              "      <td>50.775440</td>\n",
              "    </tr>\n",
              "    <tr>\n",
              "      <th>Global-50</th>\n",
              "      <td>66.104071</td>\n",
              "      <td>26.653251</td>\n",
              "      <td>155.785783</td>\n",
              "      <td>95.971983</td>\n",
              "      <td>60.018129</td>\n",
              "      <td>43.937591</td>\n",
              "      <td>89.082793</td>\n",
              "      <td>45.396725</td>\n",
              "      <td>63.204701</td>\n",
              "      <td>56.312348</td>\n",
              "      <td>21.632069</td>\n",
              "      <td>12.578449</td>\n",
              "      <td>72.709613</td>\n",
              "      <td>60.060752</td>\n",
              "    </tr>\n",
              "    <tr>\n",
              "      <th>Local-50</th>\n",
              "      <td>65.166947</td>\n",
              "      <td>26.154345</td>\n",
              "      <td>189.459033</td>\n",
              "      <td>113.784387</td>\n",
              "      <td>59.309079</td>\n",
              "      <td>41.842759</td>\n",
              "      <td>95.843026</td>\n",
              "      <td>49.428373</td>\n",
              "      <td>34.569189</td>\n",
              "      <td>20.511061</td>\n",
              "      <td>14.701160</td>\n",
              "      <td>6.677804</td>\n",
              "      <td>72.709613</td>\n",
              "      <td>60.060752</td>\n",
              "    </tr>\n",
              "    <tr>\n",
              "      <th>MrAP_single-50</th>\n",
              "      <td>66.104513</td>\n",
              "      <td>28.678858</td>\n",
              "      <td>155.261872</td>\n",
              "      <td>86.757068</td>\n",
              "      <td>59.944125</td>\n",
              "      <td>43.331986</td>\n",
              "      <td>92.841115</td>\n",
              "      <td>52.373184</td>\n",
              "      <td>17.916319</td>\n",
              "      <td>7.335274</td>\n",
              "      <td>8.453239</td>\n",
              "      <td>3.627527</td>\n",
              "      <td>72.709613</td>\n",
              "      <td>60.060752</td>\n",
              "    </tr>\n",
              "    <tr>\n",
              "      <th>MrAP_cross-50</th>\n",
              "      <td>61.925559</td>\n",
              "      <td>21.100572</td>\n",
              "      <td>135.278577</td>\n",
              "      <td>65.838745</td>\n",
              "      <td>45.931085</td>\n",
              "      <td>28.112485</td>\n",
              "      <td>84.441823</td>\n",
              "      <td>35.003534</td>\n",
              "      <td>18.016979</td>\n",
              "      <td>7.373341</td>\n",
              "      <td>8.578351</td>\n",
              "      <td>3.703517</td>\n",
              "      <td>95.570496</td>\n",
              "      <td>54.027444</td>\n",
              "    </tr>\n",
              "    <tr>\n",
              "      <th>Global-20</th>\n",
              "      <td>66.121284</td>\n",
              "      <td>27.255474</td>\n",
              "      <td>155.977453</td>\n",
              "      <td>94.518441</td>\n",
              "      <td>58.381838</td>\n",
              "      <td>36.001169</td>\n",
              "      <td>89.095568</td>\n",
              "      <td>45.598007</td>\n",
              "      <td>63.223023</td>\n",
              "      <td>55.964094</td>\n",
              "      <td>21.412264</td>\n",
              "      <td>12.836478</td>\n",
              "      <td>64.856473</td>\n",
              "      <td>47.328464</td>\n",
              "    </tr>\n",
              "    <tr>\n",
              "      <th>Local-20</th>\n",
              "      <td>70.812351</td>\n",
              "      <td>27.946530</td>\n",
              "      <td>190.126451</td>\n",
              "      <td>136.141198</td>\n",
              "      <td>58.342276</td>\n",
              "      <td>35.881431</td>\n",
              "      <td>94.724394</td>\n",
              "      <td>49.128369</td>\n",
              "      <td>49.213531</td>\n",
              "      <td>34.597423</td>\n",
              "      <td>18.482105</td>\n",
              "      <td>9.673881</td>\n",
              "      <td>64.856473</td>\n",
              "      <td>47.328464</td>\n",
              "    </tr>\n",
              "    <tr>\n",
              "      <th>MrAP_single-20</th>\n",
              "      <td>72.997418</td>\n",
              "      <td>40.836989</td>\n",
              "      <td>151.435026</td>\n",
              "      <td>91.005811</td>\n",
              "      <td>59.094544</td>\n",
              "      <td>36.812218</td>\n",
              "      <td>94.179275</td>\n",
              "      <td>60.677024</td>\n",
              "      <td>23.548196</td>\n",
              "      <td>12.054674</td>\n",
              "      <td>9.889951</td>\n",
              "      <td>5.119563</td>\n",
              "      <td>64.856473</td>\n",
              "      <td>47.328464</td>\n",
              "    </tr>\n",
              "    <tr>\n",
              "      <th>MrAP_cross-20</th>\n",
              "      <td>61.856513</td>\n",
              "      <td>20.061757</td>\n",
              "      <td>132.552194</td>\n",
              "      <td>66.109362</td>\n",
              "      <td>60.083823</td>\n",
              "      <td>37.627866</td>\n",
              "      <td>93.348505</td>\n",
              "      <td>37.595172</td>\n",
              "      <td>22.583517</td>\n",
              "      <td>11.950388</td>\n",
              "      <td>10.441993</td>\n",
              "      <td>5.400599</td>\n",
              "      <td>97.092485</td>\n",
              "      <td>58.876741</td>\n",
              "    </tr>\n",
              "  </tbody>\n",
              "</table>\n",
              "</div>"
            ],
            "text/plain": [
              "                 born-RMSE   born-MAE  ...  happened-RMSE  happened-MAE\n",
              "Global-100       66.102315  26.733693  ...      67.328678     52.147568\n",
              "Local-100        65.777537  26.266371  ...      67.328678     52.147568\n",
              "MrAP_single-100  65.654885  26.821183  ...      67.328678     52.147568\n",
              "MrAP_cross-100   31.479919  19.743910  ...      73.816374     54.138783\n",
              "Global-80        66.101929  26.779621  ...      67.799639     52.935114\n",
              "Local-80         67.645259  26.809942  ...      67.799639     52.935114\n",
              "MrAP_single-80   65.846838  27.540882  ...      67.799639     52.935114\n",
              "MrAP_cross-80    62.362344  21.669413  ...      71.500651     50.775440\n",
              "Global-50        66.104071  26.653251  ...      72.709613     60.060752\n",
              "Local-50         65.166947  26.154345  ...      72.709613     60.060752\n",
              "MrAP_single-50   66.104513  28.678858  ...      72.709613     60.060752\n",
              "MrAP_cross-50    61.925559  21.100572  ...      95.570496     54.027444\n",
              "Global-20        66.121284  27.255474  ...      64.856473     47.328464\n",
              "Local-20         70.812351  27.946530  ...      64.856473     47.328464\n",
              "MrAP_single-20   72.997418  40.836989  ...      64.856473     47.328464\n",
              "MrAP_cross-20    61.856513  20.061757  ...      97.092485     58.876741\n",
              "\n",
              "[16 rows x 14 columns]"
            ]
          },
          "metadata": {
            "tags": []
          },
          "execution_count": 65
        }
      ]
    },
    {
      "cell_type": "markdown",
      "metadata": {
        "id": "8iyful1BrN46"
      },
      "source": [
        "###  Another variation: Dropping inner edges\n",
        "i.e., regression over the KG neighbors, no inner loss"
      ]
    },
    {
      "cell_type": "code",
      "metadata": {
        "id": "ktu8rpQ2W6Ub"
      },
      "source": [
        "relations_inner = []\n",
        "for ii in range(len(relations)):\n",
        "  if relations[ii].rsplit('_',1)[-1] == 'coupling':\n",
        "    relations_inner.append(ii)"
      ],
      "execution_count": null,
      "outputs": []
    },
    {
      "cell_type": "code",
      "metadata": {
        "id": "9TkAkLDAivNw"
      },
      "source": [
        "edge_list_wo_inner = list(np.delete(np.array(edge_list), relations_inner))\n",
        "relations_wo_inner = list(np.delete(np.array(relations), relations_inner))\n",
        "asym_edge_list_wo_inner = list(np.delete(np.array(asym_edge_list), relations_inner))\n",
        "taus_wo_inner = np.delete(taus, relations_inner)\n",
        "omegas_wo_inner = np.delete(omegas, relations_inner)"
      ],
      "execution_count": null,
      "outputs": []
    },
    {
      "cell_type": "code",
      "metadata": {
        "id": "t0Fz4OI_MFmE"
      },
      "source": [
        "model_wo_inner =  MrAP(device=device, edge_list=asym_edge_list_wo_inner, omega=omegas_wo_inner, tau=taus_wo_inner)"
      ],
      "execution_count": null,
      "outputs": []
    },
    {
      "cell_type": "code",
      "metadata": {
        "id": "RLHjMmjDXjz_",
        "outputId": "f088a73f-fd50-4f70-8c4e-ad174dc1a4d6",
        "colab": {
          "base_uri": "https://localhost:8080/",
          "height": 287
        }
      },
      "source": [
        "table_result = pd.DataFrame(columns=['born-RMSE', 'born-MAE', 'Created-RMSE', 'Created-MAE', 'Destroyed-RMSE', 'Destroyed-MAE','died-RMSE', 'died-MAE',\n",
        "                                     'Long-RMSE', 'Long-MAE', 'Lat-RMSE', 'Lat-MAE', 'happened-RMSE', 'happened-MAE' ])\n",
        "\n",
        "kk=0\n",
        "for u_00 in u_0_list:\n",
        "  u_0 = torch.tensor(u_00, device=device)\n",
        "  x_0 = torch.tensor(x, device=device)\n",
        "  x_0[u_0 == 0] = 0 # Zero-padding of unknown\n",
        "\n",
        "  x_pred = iter_MrAP(x_0, u_0, model, xi=0.5, entity_labels=attribute_labels)\n",
        "  table_result.loc['MrAP-' + splits[kk]]  = get_performance(x_pred, u_0)\n",
        "\n",
        "  x_pred = iter_MrAP(x_0, u_0, model_wo_inner, xi=0.5, entity_labels=attribute_labels)\n",
        "  table_result.loc['MrAPwoInner-' + splits[kk]]  = get_performance(x_pred, u_0)\n",
        "\n",
        "  kk = kk+1\n",
        "\n",
        "table_result"
      ],
      "execution_count": null,
      "outputs": [
        {
          "output_type": "execute_result",
          "data": {
            "text/html": [
              "<div>\n",
              "<style scoped>\n",
              "    .dataframe tbody tr th:only-of-type {\n",
              "        vertical-align: middle;\n",
              "    }\n",
              "\n",
              "    .dataframe tbody tr th {\n",
              "        vertical-align: top;\n",
              "    }\n",
              "\n",
              "    .dataframe thead th {\n",
              "        text-align: right;\n",
              "    }\n",
              "</style>\n",
              "<table border=\"1\" class=\"dataframe\">\n",
              "  <thead>\n",
              "    <tr style=\"text-align: right;\">\n",
              "      <th></th>\n",
              "      <th>born-RMSE</th>\n",
              "      <th>born-MAE</th>\n",
              "      <th>Created-RMSE</th>\n",
              "      <th>Created-MAE</th>\n",
              "      <th>Destroyed-RMSE</th>\n",
              "      <th>Destroyed-MAE</th>\n",
              "      <th>died-RMSE</th>\n",
              "      <th>died-MAE</th>\n",
              "      <th>Long-RMSE</th>\n",
              "      <th>Long-MAE</th>\n",
              "      <th>Lat-RMSE</th>\n",
              "      <th>Lat-MAE</th>\n",
              "      <th>happened-RMSE</th>\n",
              "      <th>happened-MAE</th>\n",
              "    </tr>\n",
              "  </thead>\n",
              "  <tbody>\n",
              "    <tr>\n",
              "      <th>MrAP-100</th>\n",
              "      <td>31.479919</td>\n",
              "      <td>19.743910</td>\n",
              "      <td>149.636901</td>\n",
              "      <td>70.444597</td>\n",
              "      <td>62.005726</td>\n",
              "      <td>34.614763</td>\n",
              "      <td>84.242613</td>\n",
              "      <td>33.961682</td>\n",
              "      <td>17.142654</td>\n",
              "      <td>5.704237</td>\n",
              "      <td>7.929983</td>\n",
              "      <td>2.765666</td>\n",
              "      <td>73.816374</td>\n",
              "      <td>54.138783</td>\n",
              "    </tr>\n",
              "    <tr>\n",
              "      <th>MrAPwoInner-100</th>\n",
              "      <td>68.780741</td>\n",
              "      <td>24.209732</td>\n",
              "      <td>145.912957</td>\n",
              "      <td>70.791935</td>\n",
              "      <td>67.979523</td>\n",
              "      <td>42.434878</td>\n",
              "      <td>105.015414</td>\n",
              "      <td>49.565534</td>\n",
              "      <td>17.142239</td>\n",
              "      <td>5.701881</td>\n",
              "      <td>7.929909</td>\n",
              "      <td>2.766549</td>\n",
              "      <td>99.392834</td>\n",
              "      <td>62.778376</td>\n",
              "    </tr>\n",
              "    <tr>\n",
              "      <th>MrAP-80</th>\n",
              "      <td>62.362344</td>\n",
              "      <td>21.669413</td>\n",
              "      <td>149.215673</td>\n",
              "      <td>70.534499</td>\n",
              "      <td>54.406482</td>\n",
              "      <td>33.240274</td>\n",
              "      <td>94.271882</td>\n",
              "      <td>37.266638</td>\n",
              "      <td>17.493987</td>\n",
              "      <td>6.396199</td>\n",
              "      <td>8.090711</td>\n",
              "      <td>3.088407</td>\n",
              "      <td>71.500651</td>\n",
              "      <td>50.775440</td>\n",
              "    </tr>\n",
              "    <tr>\n",
              "      <th>MrAPwoInner-80</th>\n",
              "      <td>67.497754</td>\n",
              "      <td>24.016500</td>\n",
              "      <td>145.131702</td>\n",
              "      <td>70.164571</td>\n",
              "      <td>63.626865</td>\n",
              "      <td>37.550853</td>\n",
              "      <td>106.943938</td>\n",
              "      <td>48.179037</td>\n",
              "      <td>17.493987</td>\n",
              "      <td>6.396199</td>\n",
              "      <td>8.090711</td>\n",
              "      <td>3.088407</td>\n",
              "      <td>97.245183</td>\n",
              "      <td>59.191310</td>\n",
              "    </tr>\n",
              "    <tr>\n",
              "      <th>MrAP-50</th>\n",
              "      <td>61.925559</td>\n",
              "      <td>21.100572</td>\n",
              "      <td>135.278577</td>\n",
              "      <td>65.838745</td>\n",
              "      <td>45.931085</td>\n",
              "      <td>28.112485</td>\n",
              "      <td>84.441823</td>\n",
              "      <td>35.003534</td>\n",
              "      <td>18.016979</td>\n",
              "      <td>7.373341</td>\n",
              "      <td>8.578351</td>\n",
              "      <td>3.703517</td>\n",
              "      <td>95.570496</td>\n",
              "      <td>54.027444</td>\n",
              "    </tr>\n",
              "    <tr>\n",
              "      <th>MrAPwoInner-50</th>\n",
              "      <td>65.796620</td>\n",
              "      <td>22.776493</td>\n",
              "      <td>135.236811</td>\n",
              "      <td>65.938374</td>\n",
              "      <td>52.945976</td>\n",
              "      <td>30.373739</td>\n",
              "      <td>93.453452</td>\n",
              "      <td>42.711189</td>\n",
              "      <td>18.016979</td>\n",
              "      <td>7.373341</td>\n",
              "      <td>8.578351</td>\n",
              "      <td>3.703517</td>\n",
              "      <td>93.269154</td>\n",
              "      <td>54.212561</td>\n",
              "    </tr>\n",
              "    <tr>\n",
              "      <th>MrAP-20</th>\n",
              "      <td>61.856513</td>\n",
              "      <td>20.061757</td>\n",
              "      <td>132.552194</td>\n",
              "      <td>66.109362</td>\n",
              "      <td>60.083823</td>\n",
              "      <td>37.627866</td>\n",
              "      <td>93.348505</td>\n",
              "      <td>37.595172</td>\n",
              "      <td>22.583517</td>\n",
              "      <td>11.950388</td>\n",
              "      <td>10.441993</td>\n",
              "      <td>5.400599</td>\n",
              "      <td>97.092485</td>\n",
              "      <td>58.876741</td>\n",
              "    </tr>\n",
              "    <tr>\n",
              "      <th>MrAPwoInner-20</th>\n",
              "      <td>63.507880</td>\n",
              "      <td>21.159391</td>\n",
              "      <td>132.528702</td>\n",
              "      <td>66.744273</td>\n",
              "      <td>64.465080</td>\n",
              "      <td>42.487379</td>\n",
              "      <td>90.689122</td>\n",
              "      <td>37.873996</td>\n",
              "      <td>23.548196</td>\n",
              "      <td>12.054674</td>\n",
              "      <td>9.889951</td>\n",
              "      <td>5.119563</td>\n",
              "      <td>94.310245</td>\n",
              "      <td>58.752680</td>\n",
              "    </tr>\n",
              "  </tbody>\n",
              "</table>\n",
              "</div>"
            ],
            "text/plain": [
              "                 born-RMSE   born-MAE  ...  happened-RMSE  happened-MAE\n",
              "MrAP-100         31.479919  19.743910  ...      73.816374     54.138783\n",
              "MrAPwoInner-100  68.780741  24.209732  ...      99.392834     62.778376\n",
              "MrAP-80          62.362344  21.669413  ...      71.500651     50.775440\n",
              "MrAPwoInner-80   67.497754  24.016500  ...      97.245183     59.191310\n",
              "MrAP-50          61.925559  21.100572  ...      95.570496     54.027444\n",
              "MrAPwoInner-50   65.796620  22.776493  ...      93.269154     54.212561\n",
              "MrAP-20          61.856513  20.061757  ...      97.092485     58.876741\n",
              "MrAPwoInner-20   63.507880  21.159391  ...      94.310245     58.752680\n",
              "\n",
              "[8 rows x 14 columns]"
            ]
          },
          "metadata": {
            "tags": []
          },
          "execution_count": 71
        }
      ]
    }
  ]
}