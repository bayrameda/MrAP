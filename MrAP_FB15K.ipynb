{
  "nbformat": 4,
  "nbformat_minor": 0,
  "metadata": {
    "colab": {
      "name": "MrAP_FB15K.ipynb",
      "provenance": [],
      "collapsed_sections": [],
      "toc_visible": true,
      "authorship_tag": "ABX9TyODArcQom6UlDFtj7qPigyn",
      "include_colab_link": true
    },
    "kernelspec": {
      "name": "python3",
      "display_name": "Python 3"
    },
    "accelerator": "GPU"
  },
  "cells": [
    {
      "cell_type": "markdown",
      "metadata": {
        "id": "view-in-github",
        "colab_type": "text"
      },
      "source": [
        "<a href=\"https://colab.research.google.com/github/bayrameda/MrAP/blob/main/MrAP_FB15K.ipynb\" target=\"_parent\"><img src=\"https://colab.research.google.com/assets/colab-badge.svg\" alt=\"Open In Colab\"/></a>"
      ]
    },
    {
      "cell_type": "code",
      "metadata": {
        "id": "zRYQsr7wiEnF",
        "outputId": "66c395b1-3f6e-4799-9c35-73b8e1ebd4b0",
        "colab": {
          "base_uri": "https://localhost:8080/"
        }
      },
      "source": [
        "!pip install torch-scatter==2.0.4"
      ],
      "execution_count": null,
      "outputs": [
        {
          "output_type": "stream",
          "text": [
            "Collecting torch-scatter==2.0.4\n",
            "  Downloading https://files.pythonhosted.org/packages/98/a9/47cd92673b6ba251240d587815c763baac2099b07bb76fecdb3b7ae5cece/torch_scatter-2.0.4.tar.gz\n",
            "Building wheels for collected packages: torch-scatter\n",
            "  Building wheel for torch-scatter (setup.py) ... \u001b[?25l\u001b[?25hdone\n",
            "  Created wheel for torch-scatter: filename=torch_scatter-2.0.4-cp36-cp36m-linux_x86_64.whl size=11357700 sha256=12a2e2174a6068841178cd2ffbcac2f1a84cee6ecaa7f3c75cab32422392a41c\n",
            "  Stored in directory: /root/.cache/pip/wheels/fb/28/28/458ddcee4849d5f8a14dd1be1e957d2e8b2955e8c96b07a12d\n",
            "Successfully built torch-scatter\n",
            "Installing collected packages: torch-scatter\n",
            "Successfully installed torch-scatter-2.0.4\n"
          ],
          "name": "stdout"
        }
      ]
    },
    {
      "cell_type": "code",
      "metadata": {
        "id": "J9XrMezXiQuz"
      },
      "source": [
        "import numpy as np\n",
        "import torch\n",
        "import pandas as pd\n",
        "import matplotlib.pyplot as plt\n",
        "%matplotlib inline"
      ],
      "execution_count": null,
      "outputs": []
    },
    {
      "cell_type": "code",
      "metadata": {
        "id": "rmzDODF9iTG3",
        "outputId": "d6a4323b-1ae2-4cf2-e5e2-f8cbc8089eff",
        "colab": {
          "base_uri": "https://localhost:8080/"
        }
      },
      "source": [
        "device = torch.device('cuda' if torch.cuda.is_available() else 'cpu')\n",
        "print(device)"
      ],
      "execution_count": null,
      "outputs": [
        {
          "output_type": "stream",
          "text": [
            "cuda\n"
          ],
          "name": "stdout"
        }
      ]
    },
    {
      "cell_type": "markdown",
      "metadata": {
        "id": "xZPHygcxiYhQ"
      },
      "source": [
        "# Data Read"
      ]
    },
    {
      "cell_type": "code",
      "metadata": {
        "id": "vQMW2HnyiaHZ"
      },
      "source": [
        "ent_100 = pd.read_csv('data/train_100')\n",
        "ent_80 = pd.read_csv('data/train_80')\n",
        "ent_50 = pd.read_csv('data/train_50')\n",
        "ent_20 = pd.read_csv('data/train_20')\n",
        "ent_dev = pd.read_csv('data/dev')\n",
        "ent_test = pd.read_csv('data/test')\n",
        "\n",
        "entities = pd.concat([ent_100, ent_dev, ent_test], ignore_index=True)\n",
        "entities.set_axis(['node', 'attribute', 'numeric'], axis=1, inplace=True)\n",
        "\n",
        "triples = pd.read_csv('data/triples')"
      ],
      "execution_count": null,
      "outputs": []
    },
    {
      "cell_type": "code",
      "metadata": {
        "id": "UJ_vXk-AmLnk"
      },
      "source": [
        "from utils import extract_edges_FB, estimate_params, drop_sym, reduce_to_singles, performance"
      ],
      "execution_count": null,
      "outputs": []
    },
    {
      "cell_type": "code",
      "metadata": {
        "id": "5wjxQmRENejq"
      },
      "source": [
        "dates = ['people.person.date_of_birth',\n",
        "          'film.film.initial_release_date',\n",
        "          'organization.organization.date_founded',\n",
        "          'location.dated_location.date_founded',\n",
        "          'people.deceased_person.date_of_death']\n",
        "corr_attributes = [dates,\n",
        "                    ['people.person.weight_kg','people.person.height_meters'],\n",
        "                    ['location.geocode.latitude'],\n",
        "                    ['location.geocode.longitude'],\n",
        "                    ['location.location.area','topic_server.population_number']]"
      ],
      "execution_count": null,
      "outputs": []
    },
    {
      "cell_type": "code",
      "metadata": {
        "id": "nruH2iKkk0Vx"
      },
      "source": [
        "edge_list = []\n",
        "relations = []\n",
        "for attributes in corr_attributes:\n",
        "  entities_ofint = entities[entities.attribute.isin(attributes)]\n",
        "  edge_ofint, rel_ofint = extract_edges_FB(triples, entities_ofint)\n",
        "  edge_list = edge_list + edge_ofint\n",
        "  relations = relations + rel_ofint"
      ],
      "execution_count": null,
      "outputs": []
    },
    {
      "cell_type": "markdown",
      "metadata": {
        "id": "uOb3eYytqlCg"
      },
      "source": [
        "## Stats"
      ]
    },
    {
      "cell_type": "code",
      "metadata": {
        "id": "wnS2AMXsUyaa",
        "outputId": "ae3fa010-5e6c-49ba-b649-d107c85a7da6",
        "colab": {
          "base_uri": "https://localhost:8080/",
          "height": 377
        }
      },
      "source": [
        "entity_stat = pd.DataFrame(columns=['count','min', 'mean', 'max'])\n",
        "attributes = entities['attribute'].unique().tolist()\n",
        "for key in attributes:\n",
        "  numerics = entities[entities['attribute']==key]['numeric']\n",
        "  entity_stat.loc[key] = [len(numerics), numerics.min(),numerics.mean(),numerics.max()]\n",
        "entity_stat"
      ],
      "execution_count": null,
      "outputs": [
        {
          "output_type": "execute_result",
          "data": {
            "text/html": [
              "<div>\n",
              "<style scoped>\n",
              "    .dataframe tbody tr th:only-of-type {\n",
              "        vertical-align: middle;\n",
              "    }\n",
              "\n",
              "    .dataframe tbody tr th {\n",
              "        vertical-align: top;\n",
              "    }\n",
              "\n",
              "    .dataframe thead th {\n",
              "        text-align: right;\n",
              "    }\n",
              "</style>\n",
              "<table border=\"1\" class=\"dataframe\">\n",
              "  <thead>\n",
              "    <tr style=\"text-align: right;\">\n",
              "      <th></th>\n",
              "      <th>count</th>\n",
              "      <th>min</th>\n",
              "      <th>mean</th>\n",
              "      <th>max</th>\n",
              "    </tr>\n",
              "  </thead>\n",
              "  <tbody>\n",
              "    <tr>\n",
              "      <th>location.geocode.longitude</th>\n",
              "      <td>3192.0</td>\n",
              "      <td>-175.200000</td>\n",
              "      <td>-3.619346e+01</td>\n",
              "      <td>1.792167e+02</td>\n",
              "    </tr>\n",
              "    <tr>\n",
              "      <th>location.geocode.latitude</th>\n",
              "      <td>3190.0</td>\n",
              "      <td>-90.000000</td>\n",
              "      <td>3.715311e+01</td>\n",
              "      <td>7.761361e+01</td>\n",
              "    </tr>\n",
              "    <tr>\n",
              "      <th>people.person.date_of_birth</th>\n",
              "      <td>4406.0</td>\n",
              "      <td>-383.000000</td>\n",
              "      <td>1.939987e+03</td>\n",
              "      <td>1.999917e+03</td>\n",
              "    </tr>\n",
              "    <tr>\n",
              "      <th>people.deceased_person.date_of_death</th>\n",
              "      <td>1214.0</td>\n",
              "      <td>-322.000000</td>\n",
              "      <td>1.961837e+03</td>\n",
              "      <td>2.015583e+03</td>\n",
              "    </tr>\n",
              "    <tr>\n",
              "      <th>people.person.height_meters</th>\n",
              "      <td>2855.0</td>\n",
              "      <td>1.346000</td>\n",
              "      <td>1.760869e+00</td>\n",
              "      <td>2.180000e+00</td>\n",
              "    </tr>\n",
              "    <tr>\n",
              "      <th>film.film.initial_release_date</th>\n",
              "      <td>1853.0</td>\n",
              "      <td>1927.083333</td>\n",
              "      <td>1.996291e+03</td>\n",
              "      <td>2.013500e+03</td>\n",
              "    </tr>\n",
              "    <tr>\n",
              "      <th>organization.organization.date_founded</th>\n",
              "      <td>1228.0</td>\n",
              "      <td>1088.000000</td>\n",
              "      <td>1.892719e+03</td>\n",
              "      <td>2.013000e+03</td>\n",
              "    </tr>\n",
              "    <tr>\n",
              "      <th>topic_server.population_number</th>\n",
              "      <td>1920.0</td>\n",
              "      <td>1.000000</td>\n",
              "      <td>5.982174e+06</td>\n",
              "      <td>3.130439e+09</td>\n",
              "    </tr>\n",
              "    <tr>\n",
              "      <th>location.location.area</th>\n",
              "      <td>2154.0</td>\n",
              "      <td>0.004047</td>\n",
              "      <td>4.658744e+05</td>\n",
              "      <td>1.652500e+08</td>\n",
              "    </tr>\n",
              "    <tr>\n",
              "      <th>location.dated_location.date_founded</th>\n",
              "      <td>917.0</td>\n",
              "      <td>-2999.000000</td>\n",
              "      <td>1.750595e+03</td>\n",
              "      <td>2.011583e+03</td>\n",
              "    </tr>\n",
              "    <tr>\n",
              "      <th>people.person.weight_kg</th>\n",
              "      <td>225.0</td>\n",
              "      <td>44.000000</td>\n",
              "      <td>7.827831e+01</td>\n",
              "      <td>1.470000e+02</td>\n",
              "    </tr>\n",
              "  </tbody>\n",
              "</table>\n",
              "</div>"
            ],
            "text/plain": [
              "                                         count  ...           max\n",
              "location.geocode.longitude              3192.0  ...  1.792167e+02\n",
              "location.geocode.latitude               3190.0  ...  7.761361e+01\n",
              "people.person.date_of_birth             4406.0  ...  1.999917e+03\n",
              "people.deceased_person.date_of_death    1214.0  ...  2.015583e+03\n",
              "people.person.height_meters             2855.0  ...  2.180000e+00\n",
              "film.film.initial_release_date          1853.0  ...  2.013500e+03\n",
              "organization.organization.date_founded  1228.0  ...  2.013000e+03\n",
              "topic_server.population_number          1920.0  ...  3.130439e+09\n",
              "location.location.area                  2154.0  ...  1.652500e+08\n",
              "location.dated_location.date_founded     917.0  ...  2.011583e+03\n",
              "people.person.weight_kg                  225.0  ...  1.470000e+02\n",
              "\n",
              "[11 rows x 4 columns]"
            ]
          },
          "metadata": {
            "tags": []
          },
          "execution_count": 8
        }
      ]
    },
    {
      "cell_type": "markdown",
      "metadata": {
        "id": "e1P1sV4CqaKa"
      },
      "source": [
        "### Multi-relational graph stats"
      ]
    },
    {
      "cell_type": "code",
      "metadata": {
        "id": "mmN74MCrniPy",
        "outputId": "c02352e0-1d4c-4bf0-dd2b-bea0ffdecbe3",
        "colab": {
          "base_uri": "https://localhost:8080/"
        }
      },
      "source": [
        "print('Number of attribute types = ', entities['attribute'].nunique())\n",
        "N = len(entities)\n",
        "print('Total number of numerical facts = ', N)\n",
        "print('Total number of entities = ',entities.node.nunique())\n",
        "print('Total number of triple facts = ', len(triples))\n",
        "print('Number of relation types = ',triples.relation.nunique())\n",
        "print('Number of regression models = ', len(relations))\n",
        "asym_edge_list = drop_sym(edge_list)\n",
        "print('Number of message passing paths =', len(np.concatenate(asym_edge_list)))"
      ],
      "execution_count": null,
      "outputs": [
        {
          "output_type": "stream",
          "text": [
            "Number of attribute types =  11\n",
            "Total number of numerical facts =  23154\n",
            "Total number of entities =  10054\n",
            "Total number of triple facts =  118747\n",
            "Number of relation types =  114\n",
            "Number of regression models =  310\n",
            "Number of message passing paths = 180688\n"
          ],
          "name": "stdout"
        }
      ]
    },
    {
      "cell_type": "code",
      "metadata": {
        "id": "48dfM6WssbaC"
      },
      "source": [
        "attribute_labels = entities.attribute.values # corresponding entity labels of the nodes\n",
        "x = entities.numeric.values.copy() # ordering of entities is compatible with the node ordering in triples"
      ],
      "execution_count": null,
      "outputs": []
    },
    {
      "cell_type": "markdown",
      "metadata": {
        "id": "Vr5szz6RYvzg"
      },
      "source": [
        "### Histogram demo"
      ]
    },
    {
      "cell_type": "code",
      "metadata": {
        "id": "v88TwofLY4tm",
        "outputId": "b093bcee-4538-4c70-b070-1286dd0fc59a",
        "colab": {
          "base_uri": "https://localhost:8080/",
          "height": 173
        }
      },
      "source": [
        "normal = lambda x, m, std, peak : peak*np.exp(-1/2*(x-m)**2/std**2)\n",
        "\n",
        "def hist_plot(diff_pair, rel):\n",
        "  bin_vals, bin_edges, _  = plt.hist(diff_pair, bins=100, color='snow', ec= 'grey');\n",
        "  plt.plot(bin_edges, normal(bin_edges,diff_pair.mean(),diff_pair.std(),max(bin_vals)), 'k')\n",
        "  plt.title(rel);\n",
        "\n",
        "plt.figure(figsize=(10, 2));\n",
        "\n",
        "pairs = edge_list[relations.index('/film/director/film')]\n",
        "x_pairs = x[pairs]\n",
        "diff_pair = x_pairs[:,1] - x_pairs[:,0]\n",
        "plt.subplot(1,3,1)\n",
        "hist_plot(diff_pair, 'birth/directed/film')\n",
        "\n",
        "pairs = edge_list[relations.index('people.deceased_person.date_of_death_coupling')]\n",
        "x_pairs = x[pairs]\n",
        "diff_pair = x_pairs[:,1] - x_pairs[:,0]\n",
        "plt.subplot(1,3,2)\n",
        "hist_plot(diff_pair, 'birth/death')\n",
        "\n",
        "lat_ent = entities[entities['attribute']=='location.geocode.latitude']\n",
        "long_ent = entities[entities['attribute']=='location.geocode.longitude']\n",
        "diff_pair = [long_ent[long_ent.node== node]['numeric'].item()- lat_ent[lat_ent.node== node]['numeric'].item() for node in lat_ent.node.to_list() if node in long_ent.node.to_list()]\n",
        "diff_pair = np.array(diff_pair)\n",
        "plt.subplot(1,3,3)\n",
        "plt.hist(diff_pair, bins=100, color='snow', ec= 'grey');\n",
        "plt.title('latitude/longitude');\n",
        "\n",
        "\n",
        "#plt.savefig('histograms.pdf')"
      ],
      "execution_count": null,
      "outputs": [
        {
          "output_type": "display_data",
          "data": {
            "image/png": "[encoded data removed]",
            "text/plain": [
              "<Figure size 720x144 with 3 Axes>"
            ]
          },
          "metadata": {
            "tags": [],
            "needs_background": "light"
          }
        }
      ]
    },
    {
      "cell_type": "markdown",
      "metadata": {
        "id": "sv5E4oMTtGsY"
      },
      "source": [
        "# Performances"
      ]
    },
    {
      "cell_type": "code",
      "metadata": {
        "id": "S52NLzhnjO6H"
      },
      "source": [
        "def indices(entities_interest): #get the indicies of the entities of interest wrt x ordering\n",
        "  return [entities[(entities.node == row[0]) & (entities.attribute == row[1])].index.item() for ind, row in entities_interest.iterrows()]\n",
        "\n",
        "splits = ['100', '80', '50', '20']\n",
        "idx_train = [indices(item) for item in [ent_100, ent_80, ent_50, ent_20]] #train = known, dev+test=unknown\n",
        "\n",
        "def comp_u(idx):\n",
        "  u = np.zeros(N, dtype=bool)\n",
        "  u[idx] = 1\n",
        "  return u\n",
        "\n",
        "u_0_list = [comp_u(idx) for idx in idx_train]\n",
        "\n",
        "#idx_val = indices(ent_dev)\n",
        "idx_test = indices(ent_test)\n",
        "idx_test_atts = [[item for item in idx_test if item in np.where(attribute_labels == att)[0]] for att in attributes]"
      ],
      "execution_count": null,
      "outputs": []
    },
    {
      "cell_type": "markdown",
      "metadata": {
        "id": "PD5JbMC0-vDZ"
      },
      "source": [
        "Ratio known dates"
      ]
    },
    {
      "cell_type": "code",
      "metadata": {
        "id": "QdBn9jDC-PB-",
        "outputId": "fe0f4776-3cba-4151-81c4-b9a05bc8f03e",
        "colab": {
          "base_uri": "https://localhost:8080/"
        }
      },
      "source": [
        "print('Train=known, ratios=', [len(item)/N for item in idx_train])"
      ],
      "execution_count": null,
      "outputs": [
        {
          "output_type": "stream",
          "text": [
            "Train=known, ratios= [0.8033601105640494, 0.6436468860672022, 0.40139932625032393, 0.15936771184244622]\n"
          ],
          "name": "stdout"
        }
      ]
    },
    {
      "cell_type": "code",
      "metadata": {
        "id": "hLp5nhaS3FeB"
      },
      "source": [
        "def get_performance(x_pred, u_0):\n",
        "  tups = [performance(x_pred, x[idx], u_0, idx) for idx in idx_test_atts] # performance on each attribute type\n",
        "  return [item for tupl in tups for item in tupl] #merging all"
      ],
      "execution_count": null,
      "outputs": []
    },
    {
      "cell_type": "markdown",
      "metadata": {
        "id": "gSaxrfQdrTXz"
      },
      "source": [
        "### Algorithms"
      ]
    },
    {
      "cell_type": "code",
      "metadata": {
        "id": "w4xw983K5ccO"
      },
      "source": [
        "from Models.MrAP import MrAP\n",
        "from Models.algs import Global, Local, iter_MrAP"
      ],
      "execution_count": null,
      "outputs": []
    },
    {
      "cell_type": "markdown",
      "metadata": {
        "id": "8mN3_s_VreA0"
      },
      "source": [
        "A variation : Reduction of the edges to the ones among single type of attribute \\\\\n",
        "i.e., reduce the regression of one attribute from the same type of another"
      ]
    },
    {
      "cell_type": "code",
      "metadata": {
        "id": "-nzP9gCg5lAl"
      },
      "source": [
        "edge_list_singles, relations_singles, attribute_coupled = reduce_to_singles(edge_list, attribute_labels)\n",
        "asym_edge_list_singles = drop_sym(edge_list_singles)"
      ],
      "execution_count": null,
      "outputs": []
    },
    {
      "cell_type": "code",
      "metadata": {
        "id": "gCiWiiczri6e"
      },
      "source": [
        "rel_to_scale = [relations.index(item) for item in ['people.person.weight_kg_coupling', 'topic_server.population_number_coupling']]\n",
        "taus, omegas, etas, _ = estimate_params(edge_list, x, rel_to_scale)\n",
        "tau_singles = taus[relations_singles]\n",
        "omega_singles = omegas[relations_singles]\n",
        "eta_singles = etas[relations_singles]"
      ],
      "execution_count": null,
      "outputs": []
    },
    {
      "cell_type": "code",
      "metadata": {
        "id": "5_FF1jE5Ry2n"
      },
      "source": [
        "model = MrAP(device=device, edge_list=asym_edge_list, eta=etas, omega=omegas, tau=taus)\n",
        "model_singles = MrAP(device=device, edge_list=asym_edge_list_singles, eta=eta_singles, omega=omega_singles, tau=tau_singles)"
      ],
      "execution_count": null,
      "outputs": []
    },
    {
      "cell_type": "code",
      "metadata": {
        "id": "vVEVSgoR1oHm"
      },
      "source": [
        "table_result = pd.DataFrame(columns=['long-RMSE', 'long-MAE','lat-RMSE', 'lat-MAE','birth-RMSE','birth-MAE','death-RMSE','death-MAE',\n",
        "                                     'height-RMSE', 'height-MAE', 'film-RMSE', 'film-MAE', 'org-RMSE',\t'org-MAE', \n",
        "                                     'pop-RMSE', 'pop-MAE', 'area-RMSE', 'area-MAE', 'loc-RMSE',\t'loc-MAE','weight-RMSE', 'weight-MAE'])\n",
        "\n",
        "kk=0\n",
        "for u_00 in u_0_list:\n",
        "  u_0 = torch.tensor(u_00, device=device)\n",
        "  x_0 = torch.tensor(x, device=device)\n",
        "  x_0[u_0 == 0] = 0 # Zero-padding of unknown\n",
        "\n",
        "  x_pred = Global(x_0, u_0, attribute_labels)\n",
        "  table_result.loc['Global-' + splits[kk]] = get_performance(x_pred, u_0)\n",
        "\n",
        "  x_pred = Local(asym_edge_list, x_0, u_0, attribute_labels)\n",
        "  table_result.loc['Local-' + splits[kk]] = get_performance(x_pred, u_0)\n",
        "\n",
        "  x_pred = iter_MrAP(x_0, u_0, model_singles, xi=0.5, entity_labels=attribute_labels)\n",
        "  table_result.loc['MrAP_single-' + splits[kk]]  = get_performance(x_pred, u_0)\n",
        "\n",
        "  x_pred = iter_MrAP(x_0, u_0, model, xi=0.5, entity_labels=attribute_labels)\n",
        "  table_result.loc['MrAP_cross-' + splits[kk]]  = get_performance(x_pred, u_0)\n",
        "\n",
        "  kk = kk+1"
      ],
      "execution_count": null,
      "outputs": []
    },
    {
      "cell_type": "code",
      "metadata": {
        "id": "4aZaDz0y0EBD",
        "outputId": "75bae897-c3f0-43f2-a57e-427e8594d169",
        "colab": {
          "base_uri": "https://localhost:8080/",
          "height": 697
        }
      },
      "source": [
        "table_result"
      ],
      "execution_count": null,
      "outputs": [
        {
          "output_type": "execute_result",
          "data": {
            "text/html": [
              "<div>\n",
              "<style scoped>\n",
              "    .dataframe tbody tr th:only-of-type {\n",
              "        vertical-align: middle;\n",
              "    }\n",
              "\n",
              "    .dataframe tbody tr th {\n",
              "        vertical-align: top;\n",
              "    }\n",
              "\n",
              "    .dataframe thead th {\n",
              "        text-align: right;\n",
              "    }\n",
              "</style>\n",
              "<table border=\"1\" class=\"dataframe\">\n",
              "  <thead>\n",
              "    <tr style=\"text-align: right;\">\n",
              "      <th></th>\n",
              "      <th>long-RMSE</th>\n",
              "      <th>long-MAE</th>\n",
              "      <th>lat-RMSE</th>\n",
              "      <th>lat-MAE</th>\n",
              "      <th>birth-RMSE</th>\n",
              "      <th>birth-MAE</th>\n",
              "      <th>death-RMSE</th>\n",
              "      <th>death-MAE</th>\n",
              "      <th>height-RMSE</th>\n",
              "      <th>height-MAE</th>\n",
              "      <th>film-RMSE</th>\n",
              "      <th>film-MAE</th>\n",
              "      <th>org-RMSE</th>\n",
              "      <th>org-MAE</th>\n",
              "      <th>pop-RMSE</th>\n",
              "      <th>pop-MAE</th>\n",
              "      <th>area-RMSE</th>\n",
              "      <th>area-MAE</th>\n",
              "      <th>loc-RMSE</th>\n",
              "      <th>loc-MAE</th>\n",
              "      <th>weight-RMSE</th>\n",
              "      <th>weight-MAE</th>\n",
              "    </tr>\n",
              "  </thead>\n",
              "  <tbody>\n",
              "    <tr>\n",
              "      <th>Global-100</th>\n",
              "      <td>68.277579</td>\n",
              "      <td>59.261784</td>\n",
              "      <td>16.673070</td>\n",
              "      <td>10.824292</td>\n",
              "      <td>124.069332</td>\n",
              "      <td>34.158013</td>\n",
              "      <td>71.506657</td>\n",
              "      <td>44.866425</td>\n",
              "      <td>0.103763</td>\n",
              "      <td>0.085339</td>\n",
              "      <td>16.713573</td>\n",
              "      <td>13.200612</td>\n",
              "      <td>121.012633</td>\n",
              "      <td>73.294347</td>\n",
              "      <td>1.762791e+07</td>\n",
              "      <td>7.679366e+06</td>\n",
              "      <td>5.416608e+05</td>\n",
              "      <td>5.364793e+05</td>\n",
              "      <td>259.842205</td>\n",
              "      <td>157.409444</td>\n",
              "      <td>20.189706</td>\n",
              "      <td>14.172766</td>\n",
              "    </tr>\n",
              "    <tr>\n",
              "      <th>Local-100</th>\n",
              "      <td>16.318237</td>\n",
              "      <td>6.230572</td>\n",
              "      <td>10.301410</td>\n",
              "      <td>3.288899</td>\n",
              "      <td>54.195005</td>\n",
              "      <td>20.574761</td>\n",
              "      <td>68.373987</td>\n",
              "      <td>37.234193</td>\n",
              "      <td>0.112976</td>\n",
              "      <td>0.091673</td>\n",
              "      <td>15.542466</td>\n",
              "      <td>11.527244</td>\n",
              "      <td>133.239818</td>\n",
              "      <td>80.503671</td>\n",
              "      <td>3.948414e+08</td>\n",
              "      <td>1.109420e+08</td>\n",
              "      <td>6.955230e+06</td>\n",
              "      <td>3.763298e+06</td>\n",
              "      <td>552.846434</td>\n",
              "      <td>138.033274</td>\n",
              "      <td>20.837867</td>\n",
              "      <td>14.783581</td>\n",
              "    </tr>\n",
              "    <tr>\n",
              "      <th>MrAP_single-100</th>\n",
              "      <td>8.820286</td>\n",
              "      <td>3.989633</td>\n",
              "      <td>3.549789</td>\n",
              "      <td>1.467686</td>\n",
              "      <td>45.065971</td>\n",
              "      <td>18.650080</td>\n",
              "      <td>79.802632</td>\n",
              "      <td>45.339847</td>\n",
              "      <td>0.111213</td>\n",
              "      <td>0.089893</td>\n",
              "      <td>24.196239</td>\n",
              "      <td>12.279755</td>\n",
              "      <td>113.209504</td>\n",
              "      <td>70.532716</td>\n",
              "      <td>1.780085e+08</td>\n",
              "      <td>4.568103e+07</td>\n",
              "      <td>4.295445e+06</td>\n",
              "      <td>2.194483e+06</td>\n",
              "      <td>495.327133</td>\n",
              "      <td>144.342398</td>\n",
              "      <td>20.615180</td>\n",
              "      <td>14.558637</td>\n",
              "    </tr>\n",
              "    <tr>\n",
              "      <th>MrAP_cross-100</th>\n",
              "      <td>8.820401</td>\n",
              "      <td>3.990250</td>\n",
              "      <td>3.549997</td>\n",
              "      <td>1.467658</td>\n",
              "      <td>38.582492</td>\n",
              "      <td>14.987655</td>\n",
              "      <td>32.188455</td>\n",
              "      <td>16.318388</td>\n",
              "      <td>0.106273</td>\n",
              "      <td>0.086402</td>\n",
              "      <td>8.619284</td>\n",
              "      <td>6.261352</td>\n",
              "      <td>91.593831</td>\n",
              "      <td>58.331220</td>\n",
              "      <td>4.297108e+07</td>\n",
              "      <td>2.047701e+07</td>\n",
              "      <td>1.126078e+06</td>\n",
              "      <td>4.432673e+05</td>\n",
              "      <td>151.893536</td>\n",
              "      <td>98.831584</td>\n",
              "      <td>18.287561</td>\n",
              "      <td>12.852458</td>\n",
              "    </tr>\n",
              "    <tr>\n",
              "      <th>Global-80</th>\n",
              "      <td>68.355604</td>\n",
              "      <td>59.427960</td>\n",
              "      <td>16.673115</td>\n",
              "      <td>10.850334</td>\n",
              "      <td>124.055807</td>\n",
              "      <td>34.334847</td>\n",
              "      <td>71.483736</td>\n",
              "      <td>44.760322</td>\n",
              "      <td>0.103711</td>\n",
              "      <td>0.085228</td>\n",
              "      <td>16.716880</td>\n",
              "      <td>13.322316</td>\n",
              "      <td>120.974728</td>\n",
              "      <td>73.531153</td>\n",
              "      <td>1.772377e+07</td>\n",
              "      <td>8.242137e+06</td>\n",
              "      <td>5.509899e+05</td>\n",
              "      <td>5.459013e+05</td>\n",
              "      <td>260.188182</td>\n",
              "      <td>158.568855</td>\n",
              "      <td>20.150141</td>\n",
              "      <td>14.108884</td>\n",
              "    </tr>\n",
              "    <tr>\n",
              "      <th>Local-80</th>\n",
              "      <td>23.446264</td>\n",
              "      <td>9.726770</td>\n",
              "      <td>10.760253</td>\n",
              "      <td>3.759169</td>\n",
              "      <td>103.466496</td>\n",
              "      <td>24.354060</td>\n",
              "      <td>67.813123</td>\n",
              "      <td>37.255562</td>\n",
              "      <td>0.116217</td>\n",
              "      <td>0.094436</td>\n",
              "      <td>15.647023</td>\n",
              "      <td>11.879009</td>\n",
              "      <td>120.796678</td>\n",
              "      <td>75.728060</td>\n",
              "      <td>4.087435e+08</td>\n",
              "      <td>1.232322e+08</td>\n",
              "      <td>7.140178e+06</td>\n",
              "      <td>3.648624e+06</td>\n",
              "      <td>554.049142</td>\n",
              "      <td>141.434622</td>\n",
              "      <td>20.138374</td>\n",
              "      <td>14.022415</td>\n",
              "    </tr>\n",
              "    <tr>\n",
              "      <th>MrAP_single-80</th>\n",
              "      <td>8.842142</td>\n",
              "      <td>3.873966</td>\n",
              "      <td>3.735170</td>\n",
              "      <td>1.664302</td>\n",
              "      <td>45.685069</td>\n",
              "      <td>18.646676</td>\n",
              "      <td>81.860741</td>\n",
              "      <td>47.204696</td>\n",
              "      <td>0.112906</td>\n",
              "      <td>0.091239</td>\n",
              "      <td>24.235028</td>\n",
              "      <td>12.538411</td>\n",
              "      <td>112.778938</td>\n",
              "      <td>72.484007</td>\n",
              "      <td>1.789291e+08</td>\n",
              "      <td>4.811311e+07</td>\n",
              "      <td>3.709857e+06</td>\n",
              "      <td>1.830633e+06</td>\n",
              "      <td>524.070675</td>\n",
              "      <td>156.600981</td>\n",
              "      <td>20.148283</td>\n",
              "      <td>13.899208</td>\n",
              "    </tr>\n",
              "    <tr>\n",
              "      <th>MrAP_cross-80</th>\n",
              "      <td>8.846535</td>\n",
              "      <td>3.869960</td>\n",
              "      <td>3.726691</td>\n",
              "      <td>1.658199</td>\n",
              "      <td>39.937568</td>\n",
              "      <td>15.896481</td>\n",
              "      <td>32.306882</td>\n",
              "      <td>17.494500</td>\n",
              "      <td>0.109161</td>\n",
              "      <td>0.088464</td>\n",
              "      <td>9.018496</td>\n",
              "      <td>6.430755</td>\n",
              "      <td>90.940608</td>\n",
              "      <td>58.467564</td>\n",
              "      <td>4.895731e+07</td>\n",
              "      <td>2.536585e+07</td>\n",
              "      <td>2.776938e+06</td>\n",
              "      <td>6.207161e+05</td>\n",
              "      <td>153.433523</td>\n",
              "      <td>99.448023</td>\n",
              "      <td>18.111753</td>\n",
              "      <td>13.271384</td>\n",
              "    </tr>\n",
              "    <tr>\n",
              "      <th>Global-50</th>\n",
              "      <td>68.294079</td>\n",
              "      <td>59.298513</td>\n",
              "      <td>16.673202</td>\n",
              "      <td>10.858690</td>\n",
              "      <td>124.004857</td>\n",
              "      <td>35.410849</td>\n",
              "      <td>72.168394</td>\n",
              "      <td>47.494993</td>\n",
              "      <td>0.103777</td>\n",
              "      <td>0.085364</td>\n",
              "      <td>16.713441</td>\n",
              "      <td>13.209004</td>\n",
              "      <td>121.380845</td>\n",
              "      <td>72.324938</td>\n",
              "      <td>1.757442e+07</td>\n",
              "      <td>5.019902e+06</td>\n",
              "      <td>4.084868e+05</td>\n",
              "      <td>4.020117e+05</td>\n",
              "      <td>265.053036</td>\n",
              "      <td>171.885681</td>\n",
              "      <td>20.196562</td>\n",
              "      <td>14.183345</td>\n",
              "    </tr>\n",
              "    <tr>\n",
              "      <th>Local-50</th>\n",
              "      <td>38.408605</td>\n",
              "      <td>22.359003</td>\n",
              "      <td>11.861208</td>\n",
              "      <td>5.243663</td>\n",
              "      <td>69.387909</td>\n",
              "      <td>24.029467</td>\n",
              "      <td>54.697162</td>\n",
              "      <td>36.802905</td>\n",
              "      <td>0.114657</td>\n",
              "      <td>0.091521</td>\n",
              "      <td>15.218862</td>\n",
              "      <td>11.774554</td>\n",
              "      <td>136.072033</td>\n",
              "      <td>82.460261</td>\n",
              "      <td>2.205913e+07</td>\n",
              "      <td>9.361244e+06</td>\n",
              "      <td>5.224616e+06</td>\n",
              "      <td>1.431558e+06</td>\n",
              "      <td>176.374156</td>\n",
              "      <td>111.685534</td>\n",
              "      <td>20.783120</td>\n",
              "      <td>14.641063</td>\n",
              "    </tr>\n",
              "    <tr>\n",
              "      <th>MrAP_single-50</th>\n",
              "      <td>9.310476</td>\n",
              "      <td>4.650411</td>\n",
              "      <td>4.167691</td>\n",
              "      <td>2.081276</td>\n",
              "      <td>45.952831</td>\n",
              "      <td>19.146567</td>\n",
              "      <td>60.826510</td>\n",
              "      <td>40.953106</td>\n",
              "      <td>0.110533</td>\n",
              "      <td>0.089254</td>\n",
              "      <td>15.073625</td>\n",
              "      <td>11.465020</td>\n",
              "      <td>115.660920</td>\n",
              "      <td>70.968306</td>\n",
              "      <td>3.755762e+07</td>\n",
              "      <td>2.397110e+07</td>\n",
              "      <td>2.810905e+06</td>\n",
              "      <td>1.768536e+06</td>\n",
              "      <td>266.958486</td>\n",
              "      <td>148.661459</td>\n",
              "      <td>22.274588</td>\n",
              "      <td>16.554789</td>\n",
              "    </tr>\n",
              "    <tr>\n",
              "      <th>MrAP_cross-50</th>\n",
              "      <td>9.332064</td>\n",
              "      <td>4.685770</td>\n",
              "      <td>4.139926</td>\n",
              "      <td>2.075559</td>\n",
              "      <td>20.518867</td>\n",
              "      <td>12.288077</td>\n",
              "      <td>25.219284</td>\n",
              "      <td>15.987646</td>\n",
              "      <td>0.107926</td>\n",
              "      <td>0.087335</td>\n",
              "      <td>8.993178</td>\n",
              "      <td>6.446676</td>\n",
              "      <td>96.544510</td>\n",
              "      <td>60.888706</td>\n",
              "      <td>4.149902e+07</td>\n",
              "      <td>2.313308e+07</td>\n",
              "      <td>1.467929e+06</td>\n",
              "      <td>5.728557e+05</td>\n",
              "      <td>146.156481</td>\n",
              "      <td>105.932290</td>\n",
              "      <td>19.281502</td>\n",
              "      <td>13.163338</td>\n",
              "    </tr>\n",
              "    <tr>\n",
              "      <th>Global-20</th>\n",
              "      <td>68.551791</td>\n",
              "      <td>59.783931</td>\n",
              "      <td>16.693338</td>\n",
              "      <td>10.574998</td>\n",
              "      <td>124.105743</td>\n",
              "      <td>33.762818</td>\n",
              "      <td>71.184961</td>\n",
              "      <td>43.230360</td>\n",
              "      <td>0.104020</td>\n",
              "      <td>0.085662</td>\n",
              "      <td>16.713461</td>\n",
              "      <td>13.242732</td>\n",
              "      <td>121.211269</td>\n",
              "      <td>77.258778</td>\n",
              "      <td>1.812761e+07</td>\n",
              "      <td>9.824317e+06</td>\n",
              "      <td>6.612817e+05</td>\n",
              "      <td>6.566680e+05</td>\n",
              "      <td>264.343152</td>\n",
              "      <td>170.125132</td>\n",
              "      <td>20.567660</td>\n",
              "      <td>14.662339</td>\n",
              "    </tr>\n",
              "    <tr>\n",
              "      <th>Local-20</th>\n",
              "      <td>50.587257</td>\n",
              "      <td>37.163634</td>\n",
              "      <td>14.311800</td>\n",
              "      <td>7.615023</td>\n",
              "      <td>119.675653</td>\n",
              "      <td>27.871492</td>\n",
              "      <td>85.203298</td>\n",
              "      <td>44.796794</td>\n",
              "      <td>0.119839</td>\n",
              "      <td>0.095717</td>\n",
              "      <td>15.621231</td>\n",
              "      <td>12.339787</td>\n",
              "      <td>121.452646</td>\n",
              "      <td>77.739831</td>\n",
              "      <td>1.372362e+08</td>\n",
              "      <td>5.427592e+07</td>\n",
              "      <td>1.411538e+07</td>\n",
              "      <td>2.585345e+06</td>\n",
              "      <td>259.732513</td>\n",
              "      <td>145.328601</td>\n",
              "      <td>20.200283</td>\n",
              "      <td>13.884771</td>\n",
              "    </tr>\n",
              "    <tr>\n",
              "      <th>MrAP_single-20</th>\n",
              "      <td>10.604464</td>\n",
              "      <td>5.750212</td>\n",
              "      <td>4.759907</td>\n",
              "      <td>2.578602</td>\n",
              "      <td>108.681646</td>\n",
              "      <td>23.164854</td>\n",
              "      <td>77.372880</td>\n",
              "      <td>46.916019</td>\n",
              "      <td>0.109685</td>\n",
              "      <td>0.089475</td>\n",
              "      <td>15.440028</td>\n",
              "      <td>12.424456</td>\n",
              "      <td>118.326698</td>\n",
              "      <td>70.737863</td>\n",
              "      <td>1.211746e+08</td>\n",
              "      <td>4.105565e+07</td>\n",
              "      <td>1.039419e+07</td>\n",
              "      <td>3.011436e+06</td>\n",
              "      <td>255.625550</td>\n",
              "      <td>118.979290</td>\n",
              "      <td>22.547149</td>\n",
              "      <td>16.648600</td>\n",
              "    </tr>\n",
              "    <tr>\n",
              "      <th>MrAP_cross-20</th>\n",
              "      <td>10.853524</td>\n",
              "      <td>5.992674</td>\n",
              "      <td>4.842275</td>\n",
              "      <td>2.663088</td>\n",
              "      <td>107.586926</td>\n",
              "      <td>19.715152</td>\n",
              "      <td>56.549529</td>\n",
              "      <td>24.759623</td>\n",
              "      <td>0.108148</td>\n",
              "      <td>0.088648</td>\n",
              "      <td>9.525566</td>\n",
              "      <td>7.212150</td>\n",
              "      <td>97.142603</td>\n",
              "      <td>59.994341</td>\n",
              "      <td>1.372203e+08</td>\n",
              "      <td>4.886821e+07</td>\n",
              "      <td>1.610791e+06</td>\n",
              "      <td>7.475306e+05</td>\n",
              "      <td>231.953744</td>\n",
              "      <td>128.249839</td>\n",
              "      <td>21.181925</td>\n",
              "      <td>15.603843</td>\n",
              "    </tr>\n",
              "  </tbody>\n",
              "</table>\n",
              "</div>"
            ],
            "text/plain": [
              "                 long-RMSE   long-MAE  ...  weight-RMSE  weight-MAE\n",
              "Global-100       68.277579  59.261784  ...    20.189706   14.172766\n",
              "Local-100        16.318237   6.230572  ...    20.837867   14.783581\n",
              "MrAP_single-100   8.820286   3.989633  ...    20.615180   14.558637\n",
              "MrAP_cross-100    8.820401   3.990250  ...    18.287561   12.852458\n",
              "Global-80        68.355604  59.427960  ...    20.150141   14.108884\n",
              "Local-80         23.446264   9.726770  ...    20.138374   14.022415\n",
              "MrAP_single-80    8.842142   3.873966  ...    20.148283   13.899208\n",
              "MrAP_cross-80     8.846535   3.869960  ...    18.111753   13.271384\n",
              "Global-50        68.294079  59.298513  ...    20.196562   14.183345\n",
              "Local-50         38.408605  22.359003  ...    20.783120   14.641063\n",
              "MrAP_single-50    9.310476   4.650411  ...    22.274588   16.554789\n",
              "MrAP_cross-50     9.332064   4.685770  ...    19.281502   13.163338\n",
              "Global-20        68.551791  59.783931  ...    20.567660   14.662339\n",
              "Local-20         50.587257  37.163634  ...    20.200283   13.884771\n",
              "MrAP_single-20   10.604464   5.750212  ...    22.547149   16.648600\n",
              "MrAP_cross-20    10.853524   5.992674  ...    21.181925   15.603843\n",
              "\n",
              "[16 rows x 22 columns]"
            ]
          },
          "metadata": {
            "tags": []
          },
          "execution_count": 36
        }
      ]
    },
    {
      "cell_type": "markdown",
      "metadata": {
        "id": "8iyful1BrN46"
      },
      "source": [
        "###  Another variation: Dropping inner edges\n",
        "i.e., regression over the KG neighbors, no inner loss"
      ]
    },
    {
      "cell_type": "code",
      "metadata": {
        "id": "ktu8rpQ2W6Ub"
      },
      "source": [
        "relations_inner = []\n",
        "for ii in range(len(relations)):\n",
        "  if relations[ii].rsplit('_',1)[-1] == 'coupling':\n",
        "    relations_inner.append(ii)"
      ],
      "execution_count": null,
      "outputs": []
    },
    {
      "cell_type": "code",
      "metadata": {
        "id": "9TkAkLDAivNw"
      },
      "source": [
        "edge_list_wo_inner = list(np.delete(np.array(edge_list), relations_inner))\n",
        "relations_wo_inner = list(np.delete(np.array(relations), relations_inner))\n",
        "asym_edge_list_wo_inner = list(np.delete(np.array(asym_edge_list), relations_inner))\n",
        "taus_wo_inner = np.delete(taus, relations_inner)\n",
        "omegas_wo_inner = np.delete(omegas, relations_inner)\n",
        "etas_wo_inner = np.delete(etas, relations_inner)"
      ],
      "execution_count": null,
      "outputs": []
    },
    {
      "cell_type": "code",
      "metadata": {
        "id": "t0Fz4OI_MFmE"
      },
      "source": [
        "model_wo_inner =  MrAP(device=device, edge_list=asym_edge_list_wo_inner, eta = etas_wo_inner, omega=omegas_wo_inner, tau=taus_wo_inner)"
      ],
      "execution_count": null,
      "outputs": []
    },
    {
      "cell_type": "code",
      "metadata": {
        "id": "0SYazVoH0wva",
        "outputId": "513ffca7-f772-4899-c98a-c1e4fca39596",
        "colab": {
          "base_uri": "https://localhost:8080/",
          "height": 391
        }
      },
      "source": [
        "table_result = pd.DataFrame(columns=['long-RMSE', 'long-MAE','lat-RMSE', 'lat-MAE','birth-RMSE','birth-MAE','death-RMSE','death-MAE',\n",
        "                                     'height-RMSE', 'height-MAE', 'film-RMSE', 'film-MAE', 'org-RMSE',\t'org-MAE', \n",
        "                                     'pop-RMSE', 'pop-MAE', 'area-RMSE', 'area-MAE', 'loc-RMSE',\t'loc-MAE','weight-RMSE', 'weight-MAE'])\n",
        "kk=0\n",
        "for u_00 in u_0_list:\n",
        "  u_0 = torch.tensor(u_00, device=device)\n",
        "  x_0 = torch.tensor(x, device=device)\n",
        "  x_0[u_0 == 0] = 0 # Zero-padding of unknown\n",
        "\n",
        "  x_pred = iter_MrAP(x_0, u_0, model, xi=0.5, entity_labels=attribute_labels)\n",
        "  table_result.loc['MrAP-' + splits[kk]]  = get_performance(x_pred, u_0)\n",
        "\n",
        "  x_pred = iter_MrAP(x_0, u_0, model_wo_inner, xi=0.5, entity_labels=attribute_labels)\n",
        "  table_result.loc['MrAPwoInner-' + splits[kk]]  = get_performance(x_pred, u_0)\n",
        "\n",
        "  kk = kk+1\n",
        "\n",
        "table_result"
      ],
      "execution_count": null,
      "outputs": [
        {
          "output_type": "execute_result",
          "data": {
            "text/html": [
              "<div>\n",
              "<style scoped>\n",
              "    .dataframe tbody tr th:only-of-type {\n",
              "        vertical-align: middle;\n",
              "    }\n",
              "\n",
              "    .dataframe tbody tr th {\n",
              "        vertical-align: top;\n",
              "    }\n",
              "\n",
              "    .dataframe thead th {\n",
              "        text-align: right;\n",
              "    }\n",
              "</style>\n",
              "<table border=\"1\" class=\"dataframe\">\n",
              "  <thead>\n",
              "    <tr style=\"text-align: right;\">\n",
              "      <th></th>\n",
              "      <th>long-RMSE</th>\n",
              "      <th>long-MAE</th>\n",
              "      <th>lat-RMSE</th>\n",
              "      <th>lat-MAE</th>\n",
              "      <th>birth-RMSE</th>\n",
              "      <th>birth-MAE</th>\n",
              "      <th>death-RMSE</th>\n",
              "      <th>death-MAE</th>\n",
              "      <th>height-RMSE</th>\n",
              "      <th>height-MAE</th>\n",
              "      <th>film-RMSE</th>\n",
              "      <th>film-MAE</th>\n",
              "      <th>org-RMSE</th>\n",
              "      <th>org-MAE</th>\n",
              "      <th>pop-RMSE</th>\n",
              "      <th>pop-MAE</th>\n",
              "      <th>area-RMSE</th>\n",
              "      <th>area-MAE</th>\n",
              "      <th>loc-RMSE</th>\n",
              "      <th>loc-MAE</th>\n",
              "      <th>weight-RMSE</th>\n",
              "      <th>weight-MAE</th>\n",
              "    </tr>\n",
              "  </thead>\n",
              "  <tbody>\n",
              "    <tr>\n",
              "      <th>MrAP-100</th>\n",
              "      <td>8.820401</td>\n",
              "      <td>3.990250</td>\n",
              "      <td>3.549997</td>\n",
              "      <td>1.467658</td>\n",
              "      <td>38.582492</td>\n",
              "      <td>14.987655</td>\n",
              "      <td>32.188455</td>\n",
              "      <td>16.318388</td>\n",
              "      <td>0.106273</td>\n",
              "      <td>0.086402</td>\n",
              "      <td>8.619284</td>\n",
              "      <td>6.261352</td>\n",
              "      <td>91.593831</td>\n",
              "      <td>58.331220</td>\n",
              "      <td>4.297108e+07</td>\n",
              "      <td>2.047701e+07</td>\n",
              "      <td>1.126078e+06</td>\n",
              "      <td>4.432673e+05</td>\n",
              "      <td>151.893536</td>\n",
              "      <td>98.831584</td>\n",
              "      <td>18.287561</td>\n",
              "      <td>12.852458</td>\n",
              "    </tr>\n",
              "    <tr>\n",
              "      <th>MrAPwoInner-100</th>\n",
              "      <td>8.820286</td>\n",
              "      <td>3.989633</td>\n",
              "      <td>3.549789</td>\n",
              "      <td>1.467686</td>\n",
              "      <td>49.308824</td>\n",
              "      <td>19.324615</td>\n",
              "      <td>48.829416</td>\n",
              "      <td>27.810303</td>\n",
              "      <td>0.111213</td>\n",
              "      <td>0.089893</td>\n",
              "      <td>8.608295</td>\n",
              "      <td>6.253832</td>\n",
              "      <td>91.785176</td>\n",
              "      <td>58.289372</td>\n",
              "      <td>1.780085e+08</td>\n",
              "      <td>4.568103e+07</td>\n",
              "      <td>4.295445e+06</td>\n",
              "      <td>2.194483e+06</td>\n",
              "      <td>151.477103</td>\n",
              "      <td>98.561023</td>\n",
              "      <td>20.615180</td>\n",
              "      <td>14.558637</td>\n",
              "    </tr>\n",
              "    <tr>\n",
              "      <th>MrAP-80</th>\n",
              "      <td>8.846535</td>\n",
              "      <td>3.869960</td>\n",
              "      <td>3.726691</td>\n",
              "      <td>1.658199</td>\n",
              "      <td>39.937568</td>\n",
              "      <td>15.896481</td>\n",
              "      <td>32.306882</td>\n",
              "      <td>17.494500</td>\n",
              "      <td>0.109161</td>\n",
              "      <td>0.088464</td>\n",
              "      <td>9.018496</td>\n",
              "      <td>6.430755</td>\n",
              "      <td>90.940608</td>\n",
              "      <td>58.467564</td>\n",
              "      <td>4.895731e+07</td>\n",
              "      <td>2.536585e+07</td>\n",
              "      <td>2.776938e+06</td>\n",
              "      <td>6.207161e+05</td>\n",
              "      <td>153.433523</td>\n",
              "      <td>99.448023</td>\n",
              "      <td>18.111753</td>\n",
              "      <td>13.271384</td>\n",
              "    </tr>\n",
              "    <tr>\n",
              "      <th>MrAPwoInner-80</th>\n",
              "      <td>8.842142</td>\n",
              "      <td>3.873966</td>\n",
              "      <td>3.735170</td>\n",
              "      <td>1.664302</td>\n",
              "      <td>49.202003</td>\n",
              "      <td>19.394572</td>\n",
              "      <td>45.018191</td>\n",
              "      <td>27.192135</td>\n",
              "      <td>0.112906</td>\n",
              "      <td>0.091239</td>\n",
              "      <td>9.000760</td>\n",
              "      <td>6.419199</td>\n",
              "      <td>91.319618</td>\n",
              "      <td>58.588022</td>\n",
              "      <td>1.789291e+08</td>\n",
              "      <td>4.811311e+07</td>\n",
              "      <td>3.709857e+06</td>\n",
              "      <td>1.830633e+06</td>\n",
              "      <td>153.232357</td>\n",
              "      <td>99.269144</td>\n",
              "      <td>20.148283</td>\n",
              "      <td>13.899208</td>\n",
              "    </tr>\n",
              "    <tr>\n",
              "      <th>MrAP-50</th>\n",
              "      <td>9.332064</td>\n",
              "      <td>4.685770</td>\n",
              "      <td>4.139926</td>\n",
              "      <td>2.075559</td>\n",
              "      <td>20.518867</td>\n",
              "      <td>12.288077</td>\n",
              "      <td>25.219284</td>\n",
              "      <td>15.987646</td>\n",
              "      <td>0.107926</td>\n",
              "      <td>0.087335</td>\n",
              "      <td>8.993178</td>\n",
              "      <td>6.446676</td>\n",
              "      <td>96.544510</td>\n",
              "      <td>60.888706</td>\n",
              "      <td>4.149902e+07</td>\n",
              "      <td>2.313308e+07</td>\n",
              "      <td>1.467929e+06</td>\n",
              "      <td>5.728557e+05</td>\n",
              "      <td>146.156481</td>\n",
              "      <td>105.932290</td>\n",
              "      <td>19.281502</td>\n",
              "      <td>13.163338</td>\n",
              "    </tr>\n",
              "    <tr>\n",
              "      <th>MrAPwoInner-50</th>\n",
              "      <td>9.310476</td>\n",
              "      <td>4.650411</td>\n",
              "      <td>4.167691</td>\n",
              "      <td>2.081276</td>\n",
              "      <td>31.985609</td>\n",
              "      <td>14.364601</td>\n",
              "      <td>32.127773</td>\n",
              "      <td>20.004622</td>\n",
              "      <td>0.110533</td>\n",
              "      <td>0.089254</td>\n",
              "      <td>8.977055</td>\n",
              "      <td>6.433188</td>\n",
              "      <td>96.088648</td>\n",
              "      <td>60.490808</td>\n",
              "      <td>3.755762e+07</td>\n",
              "      <td>2.397110e+07</td>\n",
              "      <td>2.810905e+06</td>\n",
              "      <td>1.768536e+06</td>\n",
              "      <td>146.380743</td>\n",
              "      <td>106.063268</td>\n",
              "      <td>22.274588</td>\n",
              "      <td>16.554789</td>\n",
              "    </tr>\n",
              "    <tr>\n",
              "      <th>MrAP-20</th>\n",
              "      <td>10.853524</td>\n",
              "      <td>5.992674</td>\n",
              "      <td>4.842275</td>\n",
              "      <td>2.663088</td>\n",
              "      <td>107.586926</td>\n",
              "      <td>19.715152</td>\n",
              "      <td>56.549529</td>\n",
              "      <td>24.759623</td>\n",
              "      <td>0.108148</td>\n",
              "      <td>0.088648</td>\n",
              "      <td>9.525566</td>\n",
              "      <td>7.212150</td>\n",
              "      <td>97.142603</td>\n",
              "      <td>59.994341</td>\n",
              "      <td>1.372203e+08</td>\n",
              "      <td>4.886821e+07</td>\n",
              "      <td>1.610791e+06</td>\n",
              "      <td>7.475306e+05</td>\n",
              "      <td>231.953744</td>\n",
              "      <td>128.249839</td>\n",
              "      <td>21.181925</td>\n",
              "      <td>15.603843</td>\n",
              "    </tr>\n",
              "    <tr>\n",
              "      <th>MrAPwoInner-20</th>\n",
              "      <td>10.604464</td>\n",
              "      <td>5.750212</td>\n",
              "      <td>4.759907</td>\n",
              "      <td>2.578602</td>\n",
              "      <td>110.418082</td>\n",
              "      <td>21.776144</td>\n",
              "      <td>57.600066</td>\n",
              "      <td>28.392613</td>\n",
              "      <td>0.109685</td>\n",
              "      <td>0.089475</td>\n",
              "      <td>9.621672</td>\n",
              "      <td>7.254190</td>\n",
              "      <td>97.793205</td>\n",
              "      <td>60.251881</td>\n",
              "      <td>1.211746e+08</td>\n",
              "      <td>4.105565e+07</td>\n",
              "      <td>1.039419e+07</td>\n",
              "      <td>3.011436e+06</td>\n",
              "      <td>234.125339</td>\n",
              "      <td>128.542952</td>\n",
              "      <td>22.547149</td>\n",
              "      <td>16.648600</td>\n",
              "    </tr>\n",
              "  </tbody>\n",
              "</table>\n",
              "</div>"
            ],
            "text/plain": [
              "                 long-RMSE  long-MAE  ...  weight-RMSE  weight-MAE\n",
              "MrAP-100          8.820401  3.990250  ...    18.287561   12.852458\n",
              "MrAPwoInner-100   8.820286  3.989633  ...    20.615180   14.558637\n",
              "MrAP-80           8.846535  3.869960  ...    18.111753   13.271384\n",
              "MrAPwoInner-80    8.842142  3.873966  ...    20.148283   13.899208\n",
              "MrAP-50           9.332064  4.685770  ...    19.281502   13.163338\n",
              "MrAPwoInner-50    9.310476  4.650411  ...    22.274588   16.554789\n",
              "MrAP-20          10.853524  5.992674  ...    21.181925   15.603843\n",
              "MrAPwoInner-20   10.604464  5.750212  ...    22.547149   16.648600\n",
              "\n",
              "[8 rows x 22 columns]"
            ]
          },
          "metadata": {
            "tags": []
          },
          "execution_count": 40
        }
      ]
    }
  ]
}